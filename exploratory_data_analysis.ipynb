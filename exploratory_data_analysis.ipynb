{
 "cells": [
  {
   "cell_type": "code",
   "execution_count": null,
   "metadata": {},
   "outputs": [],
   "source": []
  },
  {
   "cell_type": "code",
   "execution_count": null,
   "metadata": {},
   "outputs": [],
   "source": [
    "import json\n",
    "\n",
    "import pandas as pd\n",
    "import pytz\n",
    "\n",
    "from fbprophet import Prophet\n",
    "from fbprophet.plot import plot_plotly, plot_components_plotly, plot_yearly\n",
    "from fbprophet.serialize import model_to_json, model_from_json\n",
    "\n",
    "import plotly.express as px\n",
    "import plotly.io as pio\n",
    "from plotly.subplots import make_subplots\n",
    "import plotly.graph_objects as go\n",
    "\n",
    "import warnings\n",
    "warnings.filterwarnings('ignore')"
   ]
  },
  {
   "cell_type": "markdown",
   "metadata": {},
   "source": [
    "## Data Scope\n",
    "- Duration from ```2017-01-01``` to ```2022-03-01```\n",
    "- Searching 4 keywords [\"#นัดเย็ดกทม\", \"#onsกทม\", \"#fwbกทม\", \"#นัดเย็ดกรุงเทพ\"]"
   ]
  },
  {
   "cell_type": "markdown",
   "metadata": {},
   "source": [
    "### All User Data"
   ]
  },
  {
   "cell_type": "code",
   "execution_count": null,
   "metadata": {},
   "outputs": [],
   "source": [
    "df_user = pd.read_csv(\"data/total_user_data_20170101_20220301.csv\") \n",
    "df_user.drop(columns = \"Unnamed: 0\", inplace = True)"
   ]
  },
  {
   "cell_type": "code",
   "execution_count": null,
   "metadata": {},
   "outputs": [],
   "source": [
    "# Drop duplication on 'id'\n",
    "df_user.drop_duplicates(subset = \"id\", inplace = True)\n",
    "\n",
    "df_user[\"created_at_dt_thtz\"] = pd.to_datetime(df_user[\"created_at_dt_thtz\"])\n",
    "df_user['created_at_date_thtz'] = pd.to_datetime(df_user['created_at_date_thtz'])\n",
    "df_user['created_year_month'] = df_user['created_at_date_thtz'].dt.strftime('%Y-%m')\n",
    "\n",
    "# Date Conversion\n",
    "df_user['created_at_dt_month'] = df_user['created_at_dt_thtz'].dt.month\n",
    "df_user['created_at_dt_month_name'] = df_user['created_at_dt_thtz'].dt.month_name()\n",
    "df_user[\"created_at_dateweek\"]= df_user['created_at_dt_thtz'].dt.weekday\n",
    "df_user[\"created_at_dateweek_name\"] = df_user['created_at_dt_thtz'].dt.day_name()\n",
    "df_user[\"created_at_dt_hour\"] = df_user[\"created_at_dt_thtz\"].dt.hour\n",
    "\n",
    "df_user = df_user[df_user['created_year_month'] != '2022-03']\n",
    "df_user.reset_index(drop = True, inplace = True)"
   ]
  },
  {
   "cell_type": "code",
   "execution_count": null,
   "metadata": {},
   "outputs": [],
   "source": [
    "num_by_day = df_user.groupby(\"created_at_date_thtz\").agg({\"id\":\"count\"}).reset_index()\n",
    "\n",
    "pio.templates.default = \"simple_white\"\n",
    "px.line(num_by_day, x = \"created_at_date_thtz\", y =\"id\",\n",
    "        title = \"Number of created account : Daily All keywords\",\n",
    "        width = 900, height= 400)"
   ]
  },
  {
   "cell_type": "code",
   "execution_count": null,
   "metadata": {},
   "outputs": [],
   "source": [
    "num_by_yearmonth = df_user.groupby(\"created_year_month\").agg({\"id\":\"count\"}).reset_index()\n",
    "\n",
    "pio.templates.default = \"simple_white\"\n",
    "px.line(num_by_yearmonth, x = \"created_year_month\", y =\"id\",\n",
    "        title = \"Number of created account : Monthly All keywords\",\n",
    "        width = 900, height= 400)"
   ]
  },
  {
   "cell_type": "markdown",
   "metadata": {},
   "source": [
    "## Tweet Data"
   ]
  },
  {
   "cell_type": "code",
   "execution_count": null,
   "metadata": {},
   "outputs": [],
   "source": [
    "df_tweet = pd.read_csv(\"data/total_tweet_data_20170101_20220301.csv\")"
   ]
  },
  {
   "cell_type": "code",
   "execution_count": null,
   "metadata": {},
   "outputs": [],
   "source": [
    "'''\n",
    "Data Cleaning\n",
    "- Drop un-related column\n",
    "- Drop duplicate Tweet id\n",
    "- Convert created date to \"Year-Month\" for aggregation\n",
    "'''\n",
    "\n",
    "df_tweet.drop(columns = [\"Unnamed: 0\"], inplace = True)\n",
    "df_tweet.drop_duplicates(subset = \"id\", inplace = True)\n",
    "\n",
    "df_tweet['created_at_dt_thtz'] = pd.to_datetime(df_tweet['created_at_dt_thtz'])\n",
    "df_tweet['created_at_date_thtz'] = pd.to_datetime(df_tweet['created_at_date_thtz'])\n",
    "df_tweet['created_year_month'] = df_tweet['created_at_date_thtz'].dt.strftime('%Y-%m')\n",
    "\n",
    "# Date Conversion\n",
    "df_tweet['created_at_dt_month'] = df_tweet['created_at_dt_thtz'].dt.month\n",
    "df_tweet['created_at_dt_month_name'] = df_tweet['created_at_dt_thtz'].dt.month_name()\n",
    "df_tweet[\"created_at_dateweek\"]= df_tweet['created_at_dt_thtz'].dt.weekday\n",
    "df_tweet[\"created_at_dateweek_name\"] = df_tweet['created_at_dt_thtz'].dt.day_name()\n",
    "df_tweet[\"created_at_dt_hour\"] = df_tweet[\"created_at_dt_thtz\"].dt.hour\n",
    "\n",
    "# Drop latest montn out due to incomplete data\n",
    "df_tweet = df_tweet[df_tweet['created_year_month'] != '2022-03']\n",
    "df_tweet.reset_index(drop= True, inplace = True)"
   ]
  },
  {
   "cell_type": "markdown",
   "metadata": {},
   "source": [
    "### Overall Number of Tweet"
   ]
  },
  {
   "cell_type": "code",
   "execution_count": null,
   "metadata": {},
   "outputs": [],
   "source": [
    "num_by_monthly = df_tweet.groupby([\"created_year_month\"]).agg({\"id\":\"count\"}).reset_index()\n",
    "num_by_monthly.rename(columns = {\"id\" : \"Number of Tweet\",  \n",
    "                                   \"created_year_month\" : \"Tweet Date\"}, inplace = True)\n",
    "\n",
    "pio.templates.default = \"simple_white\"\n",
    "px.line(num_by_monthly, x = \"Tweet Date\", y =\"Number of Tweet\",\n",
    "        title = \"Number of Tweet : Monthly Total\",\n",
    "        width = 700, height= 400)"
   ]
  },
  {
   "cell_type": "code",
   "execution_count": null,
   "metadata": {},
   "outputs": [],
   "source": [
    "num_by_keymonthly = df_tweet.groupby([\"created_year_month\", \"keywords\"]).agg({\"id\":\"count\"}).reset_index()\n",
    "num_by_keymonthly.rename(columns = {\"id\" : \"Number of Tweet\",  \n",
    "                                   \"keywords\" : \"#hashtag\",\n",
    "                                   \"created_year_month\" : \"Tweet Date\"}, inplace = True)\n",
    "\n",
    "pio.templates.default = \"simple_white\"\n",
    "num_by_keymonthly_line = px.line(num_by_keymonthly, x = \"Tweet Date\", y =\"Number of Tweet\", color = \"#hashtag\",\n",
    "                                title = \"Number of Tweet : Monthly by keywords\",\n",
    "                                width = 700, height= 400)\n",
    "num_by_keymonthly_line\n",
    "#num_by_keymonthly_line.write_html(\"Number of Tweet - Monthly Keywords.html\")"
   ]
  },
  {
   "cell_type": "markdown",
   "metadata": {},
   "source": [
    "### Tweet Frequency"
   ]
  },
  {
   "cell_type": "code",
   "execution_count": null,
   "metadata": {},
   "outputs": [],
   "source": [
    "tweetnum_user_monthly = df_tweet.groupby(['author_id', \"created_year_month\"]).agg({\"id\" : \"count\"}).reset_index()\n",
    "tweetnum_user_monthly.rename(columns = {\"author_id\" : \"Account\", \n",
    "                                        \"id\" : \"Number of Tweet\", \n",
    "                                        \"created_year_month\" : \"Tweet Date\"}, inplace = True)                    "
   ]
  },
  {
   "cell_type": "code",
   "execution_count": null,
   "metadata": {},
   "outputs": [],
   "source": [
    "px.histogram(tweetnum_user_monthly[tweetnum_user_monthly['Number of Tweet'] < 50], \n",
    "            x = \"Number of Tweet\", title = \"Count of Tweet Number Monthly Frequency/User : < 50 Tweet Month\",\n",
    "            width = 700, height= 500)"
   ]
  },
  {
   "cell_type": "code",
   "execution_count": null,
   "metadata": {},
   "outputs": [],
   "source": [
    "px.histogram(tweetnum_user_monthly[tweetnum_user_monthly['Number of Tweet'] >= 50], \n",
    "            x = \"Number of Tweet\", title = \"Count of Tweet Number Monthly Frequency/User : > 50 Tweet Month\",\n",
    "            width = 700, height= 500)"
   ]
  },
  {
   "cell_type": "markdown",
   "metadata": {},
   "source": [
    "### Trend and Seasoanlity\n",
    "**Options 1**\n",
    "- Use prophet model to extract ```trend``` and ```seasoanlity of data\n",
    "\n",
    "**Options 2**\n",
    "- Count amount of account and tweet by period of Month/ Day of Week/ Time of Day"
   ]
  },
  {
   "cell_type": "markdown",
   "metadata": {},
   "source": [
    "### Time-Series Model\n",
    "#### Account Trends"
   ]
  },
  {
   "cell_type": "code",
   "execution_count": null,
   "metadata": {},
   "outputs": [],
   "source": [
    "daily_user = df_user.groupby(['created_at_dt_thtz']).agg({\"id\" : \"count\"}).reset_index()\n",
    "daily_user.rename(columns = {\"created_at_dt_thtz\" : \"ds\" , \"id\" : \"y\"}, inplace = True)\n",
    "daily_user['ds'] = daily_user['ds'].dt.tz_localize(None)"
   ]
  },
  {
   "cell_type": "code",
   "execution_count": null,
   "metadata": {},
   "outputs": [],
   "source": [
    "#user_model = Prophet(daily_seasonality= True, weekly_seasonality= True, yearly_seasonality= True)\n",
    "#user_model.fit(daily_user)\n",
    "#\n",
    "#with open(\"./model/user_model.json\", \"w\") as f_out:\n",
    "#    json.dump(model_to_json(user_model), f_out) # Save Trained User Model"
   ]
  },
  {
   "cell_type": "code",
   "execution_count": null,
   "metadata": {},
   "outputs": [],
   "source": [
    "with open(\"./model/user_model.json\", \"r\") as f_in:\n",
    "    user_model = model_from_json(json.load(f_in)) # Load Trained User Model"
   ]
  },
  {
   "cell_type": "code",
   "execution_count": null,
   "metadata": {},
   "outputs": [],
   "source": [
    "historic_date = daily_user[['ds']]\n",
    "user_forecasting = user_model.predict(historic_date)"
   ]
  },
  {
   "cell_type": "code",
   "execution_count": null,
   "metadata": {},
   "outputs": [],
   "source": [
    "plot_components_plotly(user_model, user_forecasting, figsize = (700, 200))"
   ]
  },
  {
   "cell_type": "markdown",
   "metadata": {},
   "source": [
    "#### Tweet Trends"
   ]
  },
  {
   "cell_type": "code",
   "execution_count": null,
   "metadata": {},
   "outputs": [],
   "source": [
    "daily_tweet = df_tweet.groupby(['created_at_dt_thtz']).agg({\"id\" : \"count\"}).reset_index()\n",
    "daily_tweet.rename(columns = {\"created_at_dt_thtz\" : \"ds\" , \"id\" : \"y\"}, inplace = True)\n",
    "daily_tweet['ds'] = daily_tweet['ds'].dt.tz_localize(None)"
   ]
  },
  {
   "cell_type": "code",
   "execution_count": null,
   "metadata": {},
   "outputs": [],
   "source": [
    "#tweets_model = Prophet(daily_seasonality= True, weekly_seasonality= True, yearly_seasonality= True)\n",
    "#tweets_model.fit(daily_tweet)\n",
    "#with open(\"./model/tweet_model.json\", \"w\") as f_out:\n",
    "#    json.dump(model_to_json(tweets_model), f_out) # Save Trained Tweet Model"
   ]
  },
  {
   "cell_type": "code",
   "execution_count": null,
   "metadata": {},
   "outputs": [],
   "source": [
    "\n",
    "with open(\"./model/tweet_model.json\", \"r\") as f_in:\n",
    "    tweets_model = model_from_json(json.load(f_in)) # Load Trained Tweet Model \n",
    "    \n",
    "historic_date_tweet = daily_tweet[['ds']]\n",
    "tweet_forecasting = tweets_model.predict(historic_date_tweet)"
   ]
  },
  {
   "cell_type": "code",
   "execution_count": null,
   "metadata": {},
   "outputs": [],
   "source": [
    "plot_components_plotly(tweets_model, tweet_forecasting, figsize = (700, 200))"
   ]
  },
  {
   "cell_type": "markdown",
   "metadata": {},
   "source": [
    "### Count by Periods\n",
    "#### Account Seasonality"
   ]
  },
  {
   "cell_type": "code",
   "execution_count": null,
   "metadata": {},
   "outputs": [],
   "source": [
    "df_user_montly_keyword = df_user.groupby([\"created_at_dt_month\", \"created_at_dt_month_name\", \"keywords\"]).agg({\"id\":\"count\"}).reset_index()\n",
    "df_user_montly = df_user.groupby([\"created_at_dt_month\", \"created_at_dt_month_name\"]).agg({\"id\":\"count\"}).reset_index()\n",
    "df_user_montly_keyword.rename(columns = {'created_at_dt_month' : 'Month', \n",
    "                                'created_at_dt_month_name' : 'Month Name' , \n",
    "                                \"keywords\" : \"Hashtag\",\n",
    "                                'id' : 'Account'} ,inplace = True)\n",
    "df_user_montly.rename(columns = {'created_at_dt_month' : 'Month', \n",
    "                                'created_at_dt_month_name' : 'Month Name' , \n",
    "                                'id' : 'Account'} ,inplace = True)\n",
    "\n",
    "df_user_weekly_keyword = df_user.groupby([\"created_at_dateweek\", \"created_at_dateweek_name\", \"keywords\"]).agg({\"id\":\"count\"}).reset_index()\n",
    "df_user_weekly = df_user.groupby([\"created_at_dateweek\", \"created_at_dateweek_name\"]).agg({\"id\":\"count\"}).reset_index()\n",
    "df_user_weekly_keyword.rename(columns = {'created_at_dateweek' : 'Day of Week', \n",
    "                                'created_at_dateweek_name' : 'Day of Week Name' , \n",
    "                                \"keywords\" : \"Hashtag\",\n",
    "                                'id' : 'Account'} ,inplace = True)\n",
    "df_user_weekly.rename(columns = {'created_at_dateweek' : 'Day of Week', \n",
    "                                'created_at_dateweek_name' : 'Day of Week Name' ,\n",
    "                                'id' : 'Account'} ,inplace = True)\n",
    "\n",
    "\n",
    "df_user_hourly_keyword = df_user.groupby([\"created_at_dt_hour\", \"keywords\"]).agg({\"id\":\"count\"}).reset_index()\n",
    "df_user_hourly = df_user.groupby([\"created_at_dt_hour\"]).agg({\"id\":\"count\"}).reset_index()\n",
    "df_user_hourly_keyword.rename(columns = {'created_at_dt_hour' : 'Hour', \n",
    "                                \"keywords\" : \"Hashtag\",\n",
    "                                'id' : 'Account'} ,inplace = True)\n",
    "df_user_hourly.rename(columns = {'created_at_dt_hour' : 'Hour', \n",
    "                                'id' : 'Account'} ,inplace = True)"
   ]
  },
  {
   "cell_type": "code",
   "execution_count": null,
   "metadata": {},
   "outputs": [],
   "source": [
    "fig = make_subplots(rows=3, cols=1)\n",
    "fig.append_trace(go.Scatter(x=df_user_montly['Month'],\n",
    "                            y=df_user_montly['Account'],\n",
    "                            mode='lines', name = \"Monthly Seasonality\"), row=1, col=1)\n",
    "\n",
    "fig.append_trace(go.Scatter(x=df_user_weekly['Day of Week'],\n",
    "                            y=df_user_weekly['Account'],\n",
    "                            mode = 'lines', name = \"Day of Week Seasonality\"), row=2, col=1)\n",
    "\n",
    "fig.append_trace(go.Scatter(x=df_user_hourly['Hour'],\n",
    "                            y=df_user_hourly['Account'],\n",
    "                            mode = 'lines', name = \"Hour Seasonality\"), row=3, col=1)\n",
    "\n",
    "fig.update_layout(height=600, width=700, title_text=\"Seasonality of Account Creation\")\n",
    "fig.show()"
   ]
  },
  {
   "cell_type": "code",
   "execution_count": null,
   "metadata": {},
   "outputs": [],
   "source": [
    "fig = make_subplots(rows=4, cols=1)\n",
    "fig.append_trace(go.Scatter(x=df_user_montly_keyword[df_user_montly_keyword['Hashtag'] == \"onsกทม\"]['Month'],\n",
    "                            y=df_user_montly_keyword[df_user_montly_keyword['Hashtag'] == \"onsกทม\"]['Account'],\n",
    "                            mode='lines', name = \"onsกทม\"), row=1, col=1)\n",
    "\n",
    "fig.append_trace(go.Scatter(x=df_user_montly_keyword[df_user_montly_keyword['Hashtag'] == \"นัดเย็ดกทม\"]['Month'],\n",
    "                            y=df_user_montly_keyword[df_user_montly_keyword['Hashtag'] == \"นัดเย็ดกทม\"]['Account'],\n",
    "                            mode = 'lines', name = \"นัดเย็ดกทม\"), row=2, col=1)\n",
    "\n",
    "fig.append_trace(go.Scatter(x=df_user_montly_keyword[df_user_montly_keyword['Hashtag'] == \"นัดเย็ดกรุงเทพ\"]['Month'],\n",
    "                            y=df_user_montly_keyword[df_user_montly_keyword['Hashtag'] == \"นัดเย็ดกรุงเทพ\"]['Account'],\n",
    "                            mode = 'lines', name = \"นัดเย็ดกรุงเทพ\"), row=3, col=1)\n",
    "\n",
    "fig.append_trace(go.Scatter(x=df_user_montly_keyword[df_user_montly_keyword['Hashtag'] == \"fwbกทม\"]['Month'],\n",
    "                            y=df_user_montly_keyword[df_user_montly_keyword['Hashtag'] == \"fwbกทม\"]['Account'],\n",
    "                            mode = 'lines', name = \"fwbกทม\"), row=4, col=1)\n",
    "\n",
    "fig.update_layout(height=600, width=700, title_text=\"Seasonality of Account by Monthly : by Keywords\")\n",
    "fig.show()"
   ]
  },
  {
   "cell_type": "markdown",
   "metadata": {},
   "source": [
    "#### Tweets Seasonality"
   ]
  },
  {
   "cell_type": "code",
   "execution_count": null,
   "metadata": {},
   "outputs": [],
   "source": [
    "df_tweet_montly_keyword = df_tweet.groupby([\"created_at_dt_month\", \"created_at_dt_month_name\", \"keywords\"]).agg({\"id\":\"count\"}).reset_index()\n",
    "df_tweet_montly = df_tweet.groupby([\"created_at_dt_month\", \"created_at_dt_month_name\"]).agg({\"id\":\"count\"}).reset_index()\n",
    "df_tweet_montly_keyword.rename(columns = {'created_at_dt_month' : 'Month', \n",
    "                                'created_at_dt_month_name' : 'Month Name' , \n",
    "                                \"keywords\" : \"Hashtag\",\n",
    "                                'id' : 'Account'} ,inplace = True)\n",
    "df_tweet_montly.rename(columns = {'created_at_dt_month' : 'Month', \n",
    "                                'created_at_dt_month_name' : 'Month Name' , \n",
    "                                'id' : 'Account'} ,inplace = True)\n",
    "\n",
    "df_tweet_weekly_keyword = df_tweet.groupby([\"created_at_dateweek\", \"created_at_dateweek_name\", \"keywords\"]).agg({\"id\":\"count\"}).reset_index()\n",
    "df_tweet_weekly = df_tweet.groupby([\"created_at_dateweek\", \"created_at_dateweek_name\"]).agg({\"id\":\"count\"}).reset_index()\n",
    "df_tweet_weekly_keyword.rename(columns = {'created_at_dateweek' : 'Day of Week', \n",
    "                                'created_at_dateweek_name' : 'Day of Week Name' , \n",
    "                                \"keywords\" : \"Hashtag\",\n",
    "                                'id' : 'Account'} ,inplace = True)\n",
    "df_tweet_weekly.rename(columns = {'created_at_dateweek' : 'Day of Week', \n",
    "                                'created_at_dateweek_name' : 'Day of Week Name' ,\n",
    "                                'id' : 'Account'} ,inplace = True)\n",
    "\n",
    "\n",
    "df_tweet_hourly_keyword = df_tweet.groupby([\"created_at_dt_hour\", \"keywords\"]).agg({\"id\":\"count\"}).reset_index()\n",
    "df_tweet_hourly = df_tweet.groupby([\"created_at_dt_hour\"]).agg({\"id\":\"count\"}).reset_index()\n",
    "df_tweet_hourly_keyword.rename(columns = {'created_at_dt_hour' : 'Hour', \n",
    "                                \"keywords\" : \"Hashtag\",\n",
    "                                'id' : 'Account'} ,inplace = True)\n",
    "df_tweet_hourly.rename(columns = {'created_at_dt_hour' : 'Hour', \n",
    "                                'id' : 'Account'} ,inplace = True)"
   ]
  },
  {
   "cell_type": "code",
   "execution_count": null,
   "metadata": {},
   "outputs": [],
   "source": [
    "fig = make_subplots(rows=3, cols=1)\n",
    "fig.append_trace(go.Scatter(x=df_tweet_montly['Month'],\n",
    "                            y=df_tweet_montly['Account'],\n",
    "                            mode='lines', name = \"Monthly Seasonality\"), row=1, col=1)\n",
    "\n",
    "fig.append_trace(go.Scatter(x=df_tweet_weekly['Day of Week'],\n",
    "                            y=df_tweet_weekly['Account'],\n",
    "                            mode = 'lines', name = \"Day of Week Seasonality\"), row=2, col=1)\n",
    "\n",
    "fig.append_trace(go.Scatter(x=df_tweet_hourly['Hour'],\n",
    "                            y=df_tweet_hourly['Account'],\n",
    "                            mode = 'lines', name = \"Hour Seasonality\"), row=3, col=1)\n",
    "\n",
    "fig.update_layout(height=600, width=700, title_text=\"Seasonality of Tweet Posted\")\n",
    "fig.show()"
   ]
  },
  {
   "cell_type": "code",
   "execution_count": null,
   "metadata": {},
   "outputs": [],
   "source": []
  },
  {
   "cell_type": "markdown",
   "metadata": {},
   "source": [
    "### Location Analysis"
   ]
  },
  {
   "cell_type": "code",
   "execution_count": null,
   "metadata": {},
   "outputs": [],
   "source": [
    "df_geononna = df_tweet[~df_tweet['geo'].isna()]\n",
    "df_geona = df_tweet[df_tweet['geo'].isna()]"
   ]
  },
  {
   "cell_type": "code",
   "execution_count": null,
   "metadata": {},
   "outputs": [],
   "source": [
    "df_geononna['geo_dict'] = df_geononna['geo'].apply(lambda x: json.loads(x.replace(\"'\", \"\\\"\")))\n",
    "df_geononna['place_id'] = df_geononna['geo_dict'].apply(lambda x:  x['place_id'] if 'place_id' in x else None)\n",
    "df_geononna['coordinates'] = df_geononna['geo_dict'].apply(lambda x:  x['coordinates']['coordinates'] if 'coordinates' in x else None)"
   ]
  },
  {
   "cell_type": "code",
   "execution_count": null,
   "metadata": {},
   "outputs": [],
   "source": [
    "\n",
    "\n",
    "for text_body in df_tweet['text']:\n",
    "    if \"จุฬา\" in text_body:\n",
    "        print(text_body)\n",
    "        print(\"----\")\n",
    "        print(\"\")"
   ]
  },
  {
   "cell_type": "code",
   "execution_count": null,
   "metadata": {},
   "outputs": [],
   "source": []
  }
 ],
 "metadata": {
  "interpreter": {
   "hash": "c627cbd8298e61f5d807bd70e1856c0a810ac2c0c1e0e9c4e3a798bcc8e916d7"
  },
  "kernelspec": {
   "display_name": "Python 3.8.5 ('base')",
   "language": "python",
   "name": "python3"
  },
  "language_info": {
   "codemirror_mode": {
    "name": "ipython",
    "version": 3
   },
   "file_extension": ".py",
   "mimetype": "text/x-python",
   "name": "python",
   "nbconvert_exporter": "python",
   "pygments_lexer": "ipython3",
   "version": "3.8.5"
  },
  "orig_nbformat": 4
 },
 "nbformat": 4,
 "nbformat_minor": 2
}
